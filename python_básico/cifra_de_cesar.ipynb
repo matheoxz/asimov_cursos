{
 "cells": [
  {
   "cell_type": "code",
   "execution_count": 40,
   "metadata": {},
   "outputs": [],
   "source": [
    "def cifrar(n, m):\n",
    "    for i in range(0, m):\n",
    "        if i+n >= m:\n",
    "            yield i + n - m +1\n",
    "        else: \n",
    "            yield i + n"
   ]
  },
  {
   "cell_type": "code",
   "execution_count": 85,
   "metadata": {},
   "outputs": [],
   "source": [
    "def get_cypher(alpha, key):\n",
    "    alpha_to_number = dict(zip(alpha, range(1, len(alpha)+1)))\n",
    "    cypher_to_alpha = dict(zip([i for i in cifrar(key+1, len(alpha)+1)], alpha))\n",
    "    return dict(zip(alpha, [cypher_to_alpha[alpha_to_number[c]] for c in alpha]))"
   ]
  },
  {
   "cell_type": "code",
   "execution_count": 105,
   "metadata": {},
   "outputs": [],
   "source": [
    "def cifra(msg, key):\n",
    "    lower_alpha = 'abcdefghijklmnopqrstuvwxyz'\n",
    "    upper_alpha = lower_alpha.upper()\n",
    "\n",
    "    lower_cypher = get_cypher(lower_alpha, key)\n",
    "    upper_cypher = get_cypher(upper_alpha, key)\n",
    "\n",
    "    new_msg = \"\"\n",
    "    for c in msg:\n",
    "        if c in lower_alpha:\n",
    "            new_msg += lower_cypher[c]\n",
    "        elif c in upper_alpha:\n",
    "            new_msg += upper_cypher[c]\n",
    "        else:\n",
    "            new_msg += c\n",
    "    \n",
    "    return new_msg"
   ]
  },
  {
   "cell_type": "code",
   "execution_count": 106,
   "metadata": {},
   "outputs": [
    {
     "data": {
      "text/plain": [
       "'Zkyzk'"
      ]
     },
     "execution_count": 106,
     "metadata": {},
     "output_type": "execute_result"
    }
   ],
   "source": [
    "cifra(\"Teste\", 20)"
   ]
  }
 ],
 "metadata": {
  "kernelspec": {
   "display_name": "base",
   "language": "python",
   "name": "python3"
  },
  "language_info": {
   "codemirror_mode": {
    "name": "ipython",
    "version": 3
   },
   "file_extension": ".py",
   "mimetype": "text/x-python",
   "name": "python",
   "nbconvert_exporter": "python",
   "pygments_lexer": "ipython3",
   "version": "3.11.5"
  }
 },
 "nbformat": 4,
 "nbformat_minor": 2
}
